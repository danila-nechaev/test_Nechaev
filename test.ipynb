{
 "cells": [
  {
   "cell_type": "code",
   "execution_count": null,
   "metadata": {},
   "outputs": [],
   "source": [
    "#Открываем файл и переводим в таблицу\n",
    "import pandas as pd\n",
    "import numpy as np\n",
    "df = pd.read_csv('discounts_raw.csv', delimiter= ',')\n",
    "df.head()"
   ]
  },
  {
   "cell_type": "code",
   "execution_count": null,
   "metadata": {},
   "outputs": [],
   "source": [
    "#Открываем файл и переводим в таблицу\n",
    "df_sales = pd.read_csv('sales_raw.csv', delimiter= ',')\n",
    "df_sales.head()"
   ]
  },
  {
   "cell_type": "code",
   "execution_count": null,
   "metadata": {},
   "outputs": [],
   "source": [
    "#разбиваем даты акций на год и месяц и переводим их в числа\n",
    "df_date_year_and_month = df.copy()\n",
    "df_date_year_and_month['date_start'] = df_date_year_and_month['date_start'].astype(str)\n",
    "df_date_year_and_month[['yy_start','mm_start','dd']] = df_date_year_and_month['date_start'].str.split('-', expand = True)\n",
    "df_date_year_and_month['yy_start'] = pd.to_numeric(df_date_year_and_month['yy_start'])\n",
    "df_date_year_and_month['mm_start'] = pd.to_numeric(df_date_year_and_month['mm_start'])\n",
    "df_date_year_and_month = df_date_year_and_month.drop(['dd'], axis = 1)\n",
    "\n",
    "\n",
    "df_date_year_and_month['date_end'] = df_date_year_and_month['date_end'].astype(str)\n",
    "df_date_year_and_month[['yy_end','mm_end','dd']] = df_date_year_and_month['date_end'].str.split('-', expand = True)\n",
    "df_date_year_and_month['yy_end'] = pd.to_numeric(df_date_year_and_month['yy_end'])\n",
    "df_date_year_and_month['mm_end'] = pd.to_numeric(df_date_year_and_month['mm_end'])\n",
    "df_date_year_and_month = df_date_year_and_month.drop(['dd'], axis = 1)\n",
    "df_date_year_and_month = df_date_year_and_month.drop(['date_end','date_start'], axis = 1)\n",
    "df_date_year_and_month.head()"
   ]
  },
  {
   "cell_type": "code",
   "execution_count": null,
   "metadata": {},
   "outputs": [],
   "source": [
    "# Избавляемся от пустых значений\n",
    "df_date_year_and_month =df_date_year_and_month.dropna(axis=0)\n",
    "df_date_year_and_month"
   ]
  },
  {
   "cell_type": "code",
   "execution_count": null,
   "metadata": {},
   "outputs": [],
   "source": [
    "# Здесь мы видим, что нашы даты теперь int\n",
    "df_date_year_and_month.info()"
   ]
  },
  {
   "cell_type": "code",
   "execution_count": null,
   "metadata": {},
   "outputs": [],
   "source": [
    "#разбиваем даты продаж на год и месяц и переводим их в числа\n",
    "df_sales_year_and_month = df_sales.copy()\n",
    "df_sales_year_and_month['date'] = df_sales_year_and_month['date'].astype(str)\n",
    "df_sales_year_and_month[['yy','mm','dd']] = df_sales_year_and_month['date'].str.split('-', expand = True)\n",
    "df_sales_year_and_month['yy'] = pd.to_numeric(df_sales_year_and_month['yy'])\n",
    "df_sales_year_and_month['mm'] = pd.to_numeric(df_sales_year_and_month['mm'])\n",
    "df_sales_year_and_month['dd'] = pd.to_numeric(df_sales_year_and_month['dd'])\n",
    "df_sales_year_and_month = df_sales_year_and_month.drop(['date'], axis = 1)\n",
    "df_sales_year_and_month"
   ]
  },
  {
   "cell_type": "code",
   "execution_count": null,
   "metadata": {},
   "outputs": [],
   "source": [
    "#фильтруем их по месяцу и году\n",
    "df_sales_year_and_month = df_sales_year_and_month.loc[(df_sales_year_and_month['yy'] == 2023) &(df_sales_year_and_month['mm'] ==12)]\n",
    "df_sales_year_and_month"
   ]
  },
  {
   "cell_type": "code",
   "execution_count": null,
   "metadata": {},
   "outputs": [],
   "source": [
    "#совмещаем их в одну таблицу\n",
    "df_big = pd.merge(df_sales_year_and_month, df_date_year_and_month, on='item_id', how='inner')\n",
    "df_big['sale'] = np.where(((df_big['mm_end']<12) | (df_big['yy_end'] ==2023)| df_big['mm']==12), df_big['sale_price_before_promo'], df_big['sale_price_time_promo'])\n",
    "df_big = df_big.drop(['sale_price_before_promo'], axis = 1)\n",
    "df_big = df_big.drop(['sale_price_time_promo'], axis = 1)\n",
    "df_big = df_big.drop_duplicates(subset=['dd','item_id'])\n",
    "\n",
    "df_b = df_big[df_big['mm'] == 12]\n",
    "df_new = df_b.groupby('item_id')['qnty'].sum().reset_index()\n",
    "df_new"
   ]
  },
  {
   "cell_type": "code",
   "execution_count": null,
   "metadata": {},
   "outputs": [],
   "source": [
    "#модель ARIMA\n",
    "\n",
    "import pandas as pd\n",
    "import numpy as np\n",
    "from statsmodels.tsa.arima.model import ARIMA\n",
    "from sklearn.metrics import mean_squared_error\n",
    "from math import sqrt\n",
    "\n",
    "# Загрузка данных\n",
    "df_big = pd.merge(df_sales_year_and_month, df_date_year_and_month, on='item_id', how='inner')\n",
    "df_big['sale'] = np.where(((df_big['mm_end']<12) | (df_big['yy_end'] ==2023)| df_big['mm']==12), df_big['sale_price_before_promo'], df_big['sale_price_time_promo'])\n",
    "df_big = df_big.drop(['sale_price_before_promo', 'sale_price_time_promo'], axis=1)\n",
    "df_big = df_big.drop_duplicates(subset=['dd','item_id'])\n",
    "df_filtered = df_big[df_big['mm'] == 12]\n",
    "df_new = df_filtered.groupby('item_id')['qnty'].sum().reset_index()\n",
    "\n",
    "\n",
    "january_2024 = df_new.copy()\n",
    "\n",
    "# Подготовка данных \n",
    "data = df_big[['dd', 'qnty']].groupby('dd').sum()\n",
    "\n",
    "# Разделение данных на обучающий и тестовый наборы\n",
    "train_size = int(len(data) * 0.8)  \n",
    "train_data, test_data = data.iloc[:train_size], data.iloc[train_size:]\n",
    "\n",
    "# Обучение модели \n",
    "model = ARIMA(train_data, order=(5,1,0))  \n",
    "model_fit = model.fit()\n",
    "\n",
    "# Прогнозирование продаж на январь 2024 года\n",
    "forecast = model_fit.forecast(steps=len(test_data))  \n",
    "january_2024['прогноз'] = forecast\n",
    "january_2024.fillna(0, inplace=True)\n",
    "\n",
    "# Запись прогноза в CSV\n",
    "january_2024.to_csv('ARIMA_jan_2024.csv', sep =';',index=False, header=False, lineterminator=';\\n')\n",
    "\n",
    "# Оценка качества прогноза с использованием RMSE\n",
    "rmse = sqrt(mean_squared_error(test_data, forecast))\n",
    "print(f'RMSE прогноза на январь 2024: {rmse}')"
   ]
  },
  {
   "cell_type": "code",
   "execution_count": null,
   "metadata": {},
   "outputs": [],
   "source": [
    "#модель Random forest\n",
    "import pandas as pd\n",
    "import numpy as np\n",
    "from sklearn.ensemble import RandomForestRegressor\n",
    "from sklearn.metrics import mean_squared_error\n",
    "from math import sqrt\n",
    "\n",
    "# Загрузка данных\n",
    "df_big = pd.merge(df_sales_year_and_month, df_date_year_and_month, on='item_id', how='inner')\n",
    "df_big['sale'] = np.where(((df_big['mm_end']<12) | (df_big['yy_end'] ==2023)| df_big['mm']==12), df_big['sale_price_before_promo'], df_big['sale_price_time_promo'])\n",
    "df_big = df_big.drop(['sale_price_before_promo', 'sale_price_time_promo'], axis=1)\n",
    "df_big = df_big.drop_duplicates(subset=['dd','item_id'])\n",
    "df_filtered = df_big[df_big['mm'] == 12]\n",
    "df_new = df_filtered.groupby('item_id')['qnty'].sum().reset_index()\n",
    "\n",
    "\n",
    "january_2024_forecast = df_new.copy()\n",
    "\n",
    "# Подготовка данных для модели случайного леса\n",
    "X = df_big.drop(['qnty'], axis=1)  \n",
    "y = df_big['qnty']  \n",
    "\n",
    "# Разделение данных на обучающий и тестовый наборы\n",
    "train_size = int(len(X) * 0.8)  \n",
    "X_train, X_test = X.iloc[:train_size], X.iloc[train_size:]\n",
    "y_train, y_test = y.iloc[:train_size], y.iloc[train_size:]\n",
    "\n",
    "# Обучение модели \n",
    "model = RandomForestRegressor(random_state=42)\n",
    "model.fit(X_train, y_train)\n",
    "\n",
    "# Прогнозирование продаж на январь 2024 года\n",
    "predictions = model.predict(X_test)\n",
    "\n",
    "# Создание DataFrame\n",
    "january_2024 = pd.DataFrame({'прогноз': predictions})\n",
    "\n",
    "# Запись прогноза в CSV\n",
    "january_2024_forecast.to_csv('random_forest_jan_2024.csv',sep = ';', index=False, header=False, lineterminator=';\\n')\n",
    "\n",
    "# Оценка качества прогноза с использованием RMSE\n",
    "rmse = sqrt(mean_squared_error(y_test, predictions))\n",
    "print(f'RMSE прогноза на январь 2024: {rmse}')"
   ]
  },
  {
   "cell_type": "markdown",
   "metadata": {},
   "source": [
    "Вывод: Для данной задачи лучше подходит модель Random Forest так как у нее RMSE меньше"
   ]
  }
 ],
 "metadata": {
  "kernelspec": {
   "display_name": "Python 3",
   "language": "python",
   "name": "python3"
  },
  "language_info": {
   "codemirror_mode": {
    "name": "ipython",
    "version": 3
   },
   "file_extension": ".py",
   "mimetype": "text/x-python",
   "name": "python",
   "nbconvert_exporter": "python",
   "pygments_lexer": "ipython3",
   "version": "3.10.8"
  }
 },
 "nbformat": 4,
 "nbformat_minor": 2
}
